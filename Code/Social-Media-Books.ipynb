{
 "cells": [
  {
   "cell_type": "code",
   "execution_count": 1,
   "id": "3ad6c013",
   "metadata": {},
   "outputs": [],
   "source": [
    "import requests\n",
    "from bs4 import BeautifulSoup as bs \n",
    "# The Beautiful Soup is a python library which is named after a Lewis Carroll poem of the same name in \" Alice's Adventures in the Wonderland \" .\n",
    "# Beautiful Soup is a python package and as the name suggests , parses the unwanted data \n",
    "# and helps to organize and format the meccy web data by fixing bad HTML\n",
    "# and present to us in an easily - traversible XML structures , In short , \n",
    "# Beautiful Soup is a python package which allows us to pull data out of HTML and XML documents .\n",
    "\n",
    "import csv\n",
    "import pandas as pd"
   ]
  },
  {
   "cell_type": "code",
   "execution_count": 2,
   "id": "ccbebcd0",
   "metadata": {},
   "outputs": [
    {
     "data": {
      "text/plain": [
       "<Response [200]>"
      ]
     },
     "execution_count": 2,
     "metadata": {},
     "output_type": "execute_result"
    }
   ],
   "source": [
    "# Access the website\n",
    "request = requests.get(\"https://eg1lib.org/s/social%20media\")\n",
    "request"
   ]
  },
  {
   "cell_type": "code",
   "execution_count": 3,
   "id": "ac7e8dec",
   "metadata": {},
   "outputs": [
    {
     "data": {
      "text/plain": [
       "b'\\n<!DOCTYPE html>\\n<html>\\n    <head>\\n        <script type=\"text/javascript\">\\n            navigator.sayswho = (function(){\\n                var ua= navigator.userAgent, tem,\\n                M= ua.match(/(opera|chrome|safari|firefox|msie|trident(?=\\\\/))\\\\/?\\\\s*(\\\\d+)/i) || [];\\n                if(/trident/i.test(M[1])){\\n                    tem=  /\\\\brv[ :]+(\\\\d+)/g.exec(ua) || [];\\n                    return \\'IE \\'+(tem[1] || \\'\\');\\n                }\\n                if(M[1]=== \\'Chrome\\'){\\n                    tem= ua.match(/\\\\b(OPR|Edge)\\\\/(\\\\d+)/);\\n                    if(tem!= null) return tem.slice(1).join(\\' \\').replace(\\'OPR\\', \\'Opera\\');\\n                }\\n                M= M[2]? [M[1], M[2]]: [navigator.appName, navigator.appVersion, \\'-?\\'];\\n                if((tem= ua.match(/version\\\\/(\\\\d+)/i))!= null) M.splice(1, 1, tem[1]);\\n                return M.join(\\' \\');\\n            })();\\n\\n                    </script>\\n\\n        <title>social media: free download. Ebooks library. On-line books store on Z-Library</tit'"
      ]
     },
     "execution_count": 3,
     "metadata": {},
     "output_type": "execute_result"
    }
   ],
   "source": [
    "# Showing the content of the page\n",
    "request.content[:1000]"
   ]
  },
  {
   "cell_type": "code",
   "execution_count": 4,
   "id": "fdd26e17",
   "metadata": {},
   "outputs": [],
   "source": [
    "# assigning the whole content(in the page that we want to scrape) to the variable `soup`\n",
    "soup = bs(request.content,'html.parser')"
   ]
  },
  {
   "cell_type": "code",
   "execution_count": 5,
   "id": "2ebb06dd",
   "metadata": {},
   "outputs": [
    {
     "data": {
      "text/plain": [
       "50"
      ]
     },
     "execution_count": 5,
     "metadata": {},
     "output_type": "execute_result"
    }
   ],
   "source": [
    "containers = soup.find_all('div', {'class':\"resItemBox resItemBoxBooks exactMatch\"})\n",
    "# confirming changes\n",
    "len(containers)"
   ]
  },
  {
   "cell_type": "markdown",
   "id": "b70fec2c",
   "metadata": {},
   "source": [
    "### This means that we have 50 `books` /  `containers` on one page."
   ]
  },
  {
   "cell_type": "code",
   "execution_count": 6,
   "id": "013e5c7f",
   "metadata": {},
   "outputs": [
    {
     "data": {
      "text/plain": [
       "<div class=\"resItemBox resItemBoxBooks exactMatch\" data-book_id=\"3315943\" data-spelling-suggest=\"true\" itemscope=\"\" itemtype=\"http://schema.org/Book\">\n",
       "<div>\n",
       "<div class=\"counter\">1</div>\n",
       "<table class=\"resItemTable\" style=\"width:100%; height:100%;\">\n",
       "<tr class=\"bookRow\" data-book_id=\"3315943\">\n",
       "<td class=\"itemCover\">\n",
       "<div class=\"checkBookDownloaded itemCoverWrapper\" data-book_id=\"3315943\" data-isbn=\"9781482014099\">\n",
       "<div class=\"z-book-precover\" style=\"\">\n",
       "<a href=\"/book/3315943/ce4465\"><img alt=\"\" class=\"cover lazy\" data-src=\"https://covers.zlibcdn2.com/covers100/books/fb/c0/04/fbc00459a35c9ecbbcb8f5714781f703.jpg\" data-srcset=\"https://covers.zlibcdn2.com/covers100/books/fb/c0/04/fbc00459a35c9ecbbcb8f5714781f703.jpg 1x, https://covers.zlibcdn2.com/covers200/books/fb/c0/04/fbc00459a35c9ecbbcb8f5714781f703.jpg 2x\"/></a>\n",
       "</div>\n",
       "</div>\n",
       "</td>\n",
       "<td style=\"vertical-align: top;\">\n",
       "<table style=\"width:100%;height:100%;\">\n",
       "<tr>\n",
       "<td>\n",
       "<h3 itemprop=\"name\">\n",
       "<a href=\"/book/3315943/ce4465\" style=\"text-decoration: underline;\">500 Social Media Marketing Tips: Essential Advice, Hints and Strategy for Business: Facebook, Twitter, Instagram, Pinterest, LinkedIn, YouTube, Snapchat, and More!</a>\n",
       "</h3>\n",
       "<div style=\"color: #333; font-size: 10pt;margin-bottom:10px;\"><a href=\"/s/?q=%5BAndrew+Macarthy%5D\" title=\"Publisher\">[Andrew Macarthy]</a></div>\n",
       "<div class=\"authors\"><a class=\"color1\" href=\"/author/Andrew Macarthy\" itemprop=\"author\" title=\"Find all the author's books\">Andrew Macarthy</a></div>\n",
       "</td>\n",
       "</tr>\n",
       "<tr>\n",
       "<td colspan=\"99\" style=\"vertical-align: bottom;\">\n",
       "<div class=\"tags-container\"></div>\n",
       "<div class=\"bookDetailsBox\">\n",
       "<div class=\"bookProperty property_year\">\n",
       "<div class=\"property_label\">Year:</div>\n",
       "<div class=\"property_value\">2017</div></div>\n",
       "<div class=\"bookProperty property_language\">\n",
       "<div class=\"property_label\">Language:</div>\n",
       "<div class=\"property_value text-capitalize\">english</div></div>\n",
       "<div class=\"bookProperty property__file\">\n",
       "<div class=\"property_label\">File:</div>\n",
       "<div class=\"property_value\">EPUB, 315 KB</div></div>\n",
       "<div class=\"bookProperty property_user_tags\" style=\"display: none;\">\n",
       "<div class=\"property_label\">Your tags:</div>\n",
       "<div class=\"property_value\"></div></div>\n",
       "<div class=\"bookProperty property_rating\">\n",
       "<div class=\"book-rating\" data-book_id=\"3315943\" data-terms_hash=\"5a7346d8b2d78e9b99e58c46b34f7446\" title=\"Book Rating / File Quality\">\n",
       "<span class=\"book-rating-interest-score\">\n",
       "                        5.0\n",
       "                    </span> /\n",
       "                    <span class=\"book-rating-quality-score\">\n",
       "                        5.0\n",
       "                    </span>\n",
       "</div>\n",
       "</div></div>\n",
       "</td>\n",
       "</tr>\n",
       "</table>\n",
       "</td>\n",
       "</tr>\n",
       "</table>\n",
       "</div>\n",
       "</div>"
      ]
     },
     "execution_count": 6,
     "metadata": {},
     "output_type": "execute_result"
    }
   ],
   "source": [
    "# showing all the data in the first book\n",
    "containers[0]"
   ]
  },
  {
   "cell_type": "markdown",
   "id": "46320f5a",
   "metadata": {},
   "source": [
    "# Extracting Some elements from the first container:"
   ]
  },
  {
   "cell_type": "markdown",
   "id": "9fd544af",
   "metadata": {},
   "source": [
    "##   `Scrapping Book Title`"
   ]
  },
  {
   "cell_type": "code",
   "execution_count": 7,
   "id": "51ade0f0",
   "metadata": {},
   "outputs": [
    {
     "data": {
      "text/plain": [
       "'500 Social Media Marketing Tips: Essential Advice, Hints and Strategy for Business: Facebook, Twitter, Instagram, Pinterest, LinkedIn, YouTube, Snapchat, and More!'"
      ]
     },
     "execution_count": 7,
     "metadata": {},
     "output_type": "execute_result"
    }
   ],
   "source": [
    "title = containers[0].find_all('h3', {'itemprop': \"name\"})\n",
    "title[0].text.strip()"
   ]
  },
  {
   "cell_type": "markdown",
   "id": "6b7bea39",
   "metadata": {},
   "source": [
    "## `Scrapping Book publisher`\n"
   ]
  },
  {
   "cell_type": "code",
   "execution_count": 8,
   "id": "fd017355",
   "metadata": {},
   "outputs": [
    {
     "data": {
      "text/plain": [
       "'Andrew Macarth'"
      ]
     },
     "execution_count": 8,
     "metadata": {},
     "output_type": "execute_result"
    }
   ],
   "source": [
    "containers[0].find_all('a', {'title':'Publisher'})[0].text[1:-2]"
   ]
  },
  {
   "cell_type": "markdown",
   "id": "4d00fa1c",
   "metadata": {},
   "source": [
    "## `Scrapping Book Author`\n"
   ]
  },
  {
   "cell_type": "code",
   "execution_count": 9,
   "id": "d4b80b7c",
   "metadata": {},
   "outputs": [
    {
     "data": {
      "text/plain": [
       "'Andrew Macarthy'"
      ]
     },
     "execution_count": 9,
     "metadata": {},
     "output_type": "execute_result"
    }
   ],
   "source": [
    "containers[0].find_all('div', {'class':'authors'})[0].text"
   ]
  },
  {
   "cell_type": "markdown",
   "id": "023d626b",
   "metadata": {},
   "source": [
    "## `Scrapping Year`"
   ]
  },
  {
   "cell_type": "code",
   "execution_count": 10,
   "id": "bc55c07c",
   "metadata": {},
   "outputs": [
    {
     "data": {
      "text/plain": [
       "'2017'"
      ]
     },
     "execution_count": 10,
     "metadata": {},
     "output_type": "execute_result"
    }
   ],
   "source": [
    "containers[0].find_all('div', {'class':\"property_value\"})[0].text"
   ]
  },
  {
   "cell_type": "markdown",
   "id": "9aea6cf9",
   "metadata": {},
   "source": [
    "# Now we will scrape all containers in the first page and save all data in CSV file."
   ]
  },
  {
   "cell_type": "code",
   "execution_count": 11,
   "id": "0f48ca05",
   "metadata": {},
   "outputs": [
    {
     "name": "stdout",
     "output_type": "stream",
     "text": [
      "500 Social Media Marketing Tips: Essential Advice, Hints and Strategy for Business: Facebook, Twitter, Instagram, Pinterest, LinkedIn, YouTube, Snapchat, and More!\n",
      "[Andrew Macarthy]\n",
      "Andrew Macarthy\n",
      "2017\n",
      "\n",
      "The Power of Visual Storytelling: How to Use Visuals, Videos, and Social Media to Market Your Brand\n",
      "McGraw-Hill\n",
      "Ekaterina Walter, Jessica Gioglio\n",
      "2014\n",
      "\n",
      "Social Media Strategy: Marketing, Advertising, and Public Relations in the Consumer Revolution\n",
      "Rowman & Littlefield Publishers\n",
      "Keith Quesenberry\n",
      "2018\n",
      "\n",
      "Social Media Marketing Mastery (2 Manuscripts in 1): The Ultimate Practical Guide to Marketing, Advertising, Growing Your Business and Becoming an Influencer ... with Facebook, Instagram, Youtube and More\n",
      "Gary Clyne\n",
      "Clyne Gary\n",
      "2019\n",
      "\n",
      "Storytelling: Manipulation of the Audience - How to Learn to Skyrocket Your Personal Brand and Online Business Using the Power of Social Media Marketing, Including Instagram, Facebook and YouTube\n",
      "nan\n",
      "Daniel Anderson\n",
      "2019\n",
      "\n",
      "SOCIAL MEDIA MARKETING AND ONLINE BUSINESS 2021: Beyond 2020! Rise to the top of the Main eCommerce Platforms Using the Most Unscrupulous and Winning Tactics of Instagram, YouTube & Facebook.\n",
      "nan\n",
      "ALLAN KANE\n",
      "2020\n",
      "\n",
      "Social Media Marketing 2021-22: Beginner's Guide to Making Money Online. Become a Successful Influencer Through Youtube, Twitter, Facebook, Instagram and Linkedin Algorithms. Start Your Passive Income\n",
      "Independently published\n",
      "Digital Business Academy [Digital Business Academy]\n",
      "2021\n",
      "\n",
      "Content Rules: How to Create Killer Blogs, Podcasts, Videos, Ebooks, Webinars (and More) That Engage Customers and Ignite Your Business (New Rules Social Media Series) (Scanned PDF)\n",
      "Wiley\n",
      "Ann Handley, C.C. Chapman\n",
      "2010\n",
      "\n",
      "The B2B social media book: become a marketing superstar by generating leads with blogging, LinkedIn, Twitter, Facebook, email, and more\n",
      "Wiley\n",
      "Kipp Bodnar, Jeffrey L. Cohen\n",
      "2012\n",
      "\n",
      "Social Media Marketing All-in-One For Dummies\n",
      "John Wiley & Sons\n",
      "Jan Zimmerman, Deborah Ng\n",
      "2017\n",
      "\n",
      "Ten Arguments For Deleting Your Social Media Accounts Right Now\n",
      "The Bodley Head Ltd\n",
      "Jaron Lanier\n",
      "2018\n",
      "\n",
      "Digital And Social Media Marketing: Emerging Applications And Theoretical Development\n",
      "Springer\n",
      "Nripendra P. Rana, Emma L. Slade, Ganesh Prasad Sahu, Hatice Kizgin, Nitish Singh, Bidit Dey, Anabel Gutierrez, Yogesh K. Dwivedi\n",
      "2020\n",
      "\n",
      "Mind Wars: A History of Mind Control, Surveillance, and Social Engineering by the Government, Media, and Secret Societies\n",
      "Red Wheel/Weiser\n",
      "Marie D. Jones, Larry Flaxman\n",
      "2015\n",
      "\n",
      "Mining the Social Web: Data Mining Facebook, Twitter, LinkedIn, Instagram, GitHub, and More\n",
      "O'Reilly Media\n",
      "Russell, Matthew A., Klassen, Mikhail\n",
      "2019\n",
      "\n",
      "Social Media: Become a Social Media Marketing Master: How to Easily Start Marketing on Facebook, Twitter, Instagram, YouTube & More\n",
      "nan\n",
      "Jenkins, Alex\n",
      "2016\n",
      "\n",
      "Social media marketing workbook 2019: how to leverage the power of Facebook advertising, Instagram marketing, YouTube and SEO to explode your business and personal brand\n",
      "Social Media Guru\n",
      "Schaffner, Adam\n",
      "2019\n",
      "\n",
      "Social Media Marketing, 3 books in one: Excellent Tricks to Grow your business,Instagram Marketing to become a famous influencer,Tiktok and You Tube to make Viral Videos\n",
      "nan\n",
      "Miller, Dave\n",
      "2020\n",
      "\n",
      "Social Media Marketing For Dummies\n",
      "John Wiley & Sons\n",
      "Shiv Singh, Stephanie Diamond\n",
      "2020\n",
      "\n",
      "Computational Propaganda: Political Parties, Politicians, and Political Manipulation on Social Media\n",
      "Oxford University Press\n",
      "Samuel  C .  Woolley, Philip N. Howard\n",
      "2018\n",
      "\n",
      "500 social media marketing tips : essential advice, hints and strategy for business : Facebook, Twitter, Pinterest, Google+, YouTube, Instagram, Linkedin, and more!\n",
      "nan\n",
      "Andrew Macarthy\n",
      "2014\n",
      "\n",
      "Seven Layers of Social Media Analytics: Mining Business Insights from Social Media Text, Actions, Networks, Hyperlinks, Apps, Search Engine, and Location Data\n",
      "nan\n",
      "Gohar F. Khan\n",
      "2015\n",
      "\n",
      "Social Media\n",
      "Createspace Independent Publishing Platform\n",
      "Grant Kennedy\n",
      "2016\n",
      "\n",
      "The SAGE Handbook of Social Media Research Methods\n",
      "SAGE Publications Ltd\n",
      "Luke Sloan, Anabel Quan-Haase\n",
      "2017\n",
      "\n",
      "#AskGaryVee: One Entrepreneur's Take on Leadership, Social Media, and Self-Awareness\n",
      "HarperBusiness\n",
      "Gary Vaynerchuk\n",
      "2016\n",
      "\n",
      "Social Media Data Mining and Analytics\n",
      "Wiley\n",
      "Gabor Szabo, Gungor Polatkan, P. Oscar Boykin, Antonios Chalkiopoulos\n",
      "2018\n",
      "\n",
      "Social Media Marketing 2021: 4 BOOKS IN 1 - Social Media for Beginners, Instagram Marketing to Become an Influencer, Facebook Advertising, Google AdWords\n",
      "nan\n",
      "Preace, Jeremy\n",
      "2020\n",
      "\n",
      "Praxiswissen Online-Marketing: Affiliate-, Influencer-, Content- und E-Mail-Marketing, Google Ads, SEO, Social Media, Online- inklusive Facebook-Werbung (German Edition)\n",
      "Springer Gabler\n",
      "Lammenett, Erwin\n",
      "2019\n",
      "\n",
      "FACEBOOK MARKETING 2021: Hit With Advertising Strategies to Estimate Your Small Business on Top,use This Move by Step Beginner’s Guide for Passive Income on Social Media to Make Money Online Fromhome\n",
      "#PrB.rating#0.0\n",
      "Jack Mathew [Mathew, Jack]\n",
      "2021\n",
      "\n",
      "Social Security 101: From Medicare To Spousal Benefits, An Essential Primer On Government Retirement Aid (adams 101)\n",
      "Adams Media\n",
      "Mill, Alfred\n",
      "2016\n",
      "\n",
      "The Art of Social Media: Power Tips for Power Users\n",
      "Portfolio\n",
      "Guy Kawasaki, Peg Fitzpatrick\n",
      "2014\n",
      "\n",
      "Influencer: Building your personal brand in the age of social media\n",
      "Citadel Press\n",
      "Hennessy, Brittany\n",
      "2018\n",
      "\n",
      "Social Media Success for Every Brand: The Five StoryBrand Pillars That Turn Posts Into Profits\n",
      "HarperCollins Leadership\n",
      "Claire Diaz-Ortiz\n",
      "2019\n",
      "\n",
      "No B.S. Guide to Direct Response Social Media Marketing: The Ultimate No Holds Barred Guide to Producing Measurable, Monetizable Results with Social Media Marketing\n",
      "Entrepreneur Press\n",
      "Dan S. Kennedy, Kim Walsh-Phillips\n",
      "2015\n",
      "\n",
      "Leave Your Mark: Land Your Dream Job. Kill It in Your Career. Rock Social Media.\n",
      "Grand Central Publishing\n",
      "Aliza Licht\n",
      "2015\n",
      "\n",
      "Media, Society, World: Social Theory and Digital Media Practice\n",
      "Polity\n",
      "Nick Couldry\n",
      "2012\n",
      "\n",
      "INSTAGRAM MARKETING 2021: Success in your business with the power of promotion, grow a top influencer with the secrets of this beginner’s guide for growth in social media marketing\n",
      "nan\n",
      "Mathew, Jack [Mathew, Jack]\n",
      "2021\n",
      "\n",
      "Introduction to Mass Communication: Media Literacy and Culture\n",
      "McGraw-Hill Humanities/Social Sciences/Languages\n",
      "Stanley Baran\n",
      "2013\n",
      "\n",
      "Python Social Media Analytics: Analyze and visualize data from Twitter, Youtube, GitHub, and more\n",
      "Packt Publishing\n",
      "Siddhartha Chatterjee, Michal Krystyanczuk\n",
      "2017\n",
      "\n",
      "The New Rules of Marketing & PR: How to Use Social Media, Online Video, Mobile Applications, Blogs, News Releases, and Viral Marketing to Reach Buyers Directly\n",
      "Wiley\n",
      "David Meerman Scott\n",
      "2013\n",
      "\n",
      "Social Media Marketing Workbook 2022\n",
      "nan\n",
      "Jason McDonald\n",
      "2022\n",
      "\n",
      "Philosophy Of Media: A short History Of Ideas And Innovations From Socrates To Social Media\n",
      "Routledge\n",
      "Hassan, Robert, Sutherland, Thomas\n",
      "2017\n",
      "\n",
      "Social Media Marketing All-in-One For Dummies\n",
      "For Dummies\n",
      "Michelle Krasniak, Jan Zimmerman, Deborah Ng\n",
      "2021\n",
      "\n",
      "Dynamic Digital Marketing: Master the World of Online and Social Media Marketing to Grow Your Business\n",
      "Wiley\n",
      "Dawn McGruer\n",
      "2020\n",
      "\n",
      "Social Media for Strategic Communication: Creative Strategies and Research-Based Applications\n",
      "Sage Publications, Inc\n",
      "Karen J Freberg\n",
      "2018\n",
      "\n",
      "Influence and Behavior Analysis in Social Networks and Social Media\n",
      "Springer International Publishing\n",
      "Mehmet Kaya, Reda Alhajj\n",
      "2019\n",
      "\n",
      "Professione social media manager. Strategie, tattiche e strumenti per i professionisti del social media marketing\n",
      "Hoepli\n",
      "Veronica Gentili\n",
      "2020\n",
      "\n",
      "50 digital team building games : fast, fun meeting openers, group activities and adventures using social media, smart phones, GPS, tablets, and more\n",
      "Wiley\n",
      "Chen, John\n",
      "2012\n",
      "\n",
      "Social Media Made Simple: Social Media Marketing Tips for Small Business: A Quick Guide to Boosting Your Brand With 101 Free Content Ideas\n",
      "#PrB.rating#5.0\n",
      "The Sitters Australia & Siân Evans & Justine Day [Australia, The Sitters & Evans, Siân & Day, Justine]\n",
      "2021\n",
      "\n",
      "Social Media and Crisis Communication\n",
      "Routledge\n",
      "Lucinda L Austin, Yan Jin\n",
      "2017\n",
      "\n",
      "LikeWar: The Weaponization of Social Media\n",
      "Eamon Dolan/Houghton Mifflin Harcourt\n",
      "P.W. Singer, Emerson T. Brooking\n",
      "2018\n",
      "\n"
     ]
    }
   ],
   "source": [
    " for container in containers:\n",
    "        title = container.find_all('h3', {'itemprop': \"name\"})\n",
    "        title = title[0].text.strip()\n",
    "\n",
    "        # I use here try-except because some books have no publisher name. So if it's, put it nan\n",
    "        try:\n",
    "            publisher = container.find_all('a', {'title':'Publisher'})[0].text\n",
    "        except:\n",
    "            publisher = 'nan'\n",
    "\n",
    "\n",
    "        author = container.find_all('div', {'class':'authors'})[0].text\n",
    "\n",
    "        year = container.find_all('div', {'class':\"property_value\"})[0].text\n",
    "\n",
    "        print(title + '\\n' + publisher + '\\n' + author + '\\n' + year + '\\n')"
   ]
  },
  {
   "cell_type": "code",
   "execution_count": 12,
   "id": "0f4dfe1c",
   "metadata": {},
   "outputs": [
    {
     "name": "stdout",
     "output_type": "stream",
     "text": [
      "✔✔✔✔✔✔✔✔✔✔✔✔✔✔✔✔✔✔✔✔✔✔✔✔✔\n"
     ]
    }
   ],
   "source": [
    "with open('Social-Media-Books.csv', 'w', encoding='utf-8') as file:\n",
    "    writer_obj = csv.writer(file)\n",
    "    writer_obj.writerow(['Title', 'Publisher', 'Author', 'Year'])\n",
    "    \n",
    "    \n",
    "    for container in containers:\n",
    "        title = container.find_all('h3', {'itemprop': \"name\"})\n",
    "        title = title[0].text.strip()\n",
    "\n",
    "        # I use here try-except because some books have no publisher name. So if it's, put it nan\n",
    "        try:\n",
    "            publisher = container.find_all('a', {'title':'Publisher'})[0]\n",
    "        except:\n",
    "            publisher = 'nan'\n",
    "\n",
    "\n",
    "        author = container.find_all('div', {'class':'authors'})[0].text\n",
    "\n",
    "        year = container.find_all('div', {'class':\"property_value\"})[0].text\n",
    "\n",
    "        writer_obj.writerow([title, publisher, author, year])\n",
    "    \n",
    "    print('✔✔✔✔✔✔✔✔✔✔✔✔✔✔✔✔✔✔✔✔✔✔✔✔✔')"
   ]
  },
  {
   "cell_type": "code",
   "execution_count": 13,
   "id": "61557757",
   "metadata": {},
   "outputs": [
    {
     "name": "stdout",
     "output_type": "stream",
     "text": [
      "<class 'pandas.core.frame.DataFrame'>\n",
      "RangeIndex: 50 entries, 0 to 49\n",
      "Data columns (total 4 columns):\n",
      " #   Column     Non-Null Count  Dtype \n",
      "---  ------     --------------  ----- \n",
      " 0   Title      50 non-null     object\n",
      " 1   Publisher  41 non-null     object\n",
      " 2   Author     50 non-null     object\n",
      " 3   Year       50 non-null     int64 \n",
      "dtypes: int64(1), object(3)\n",
      "memory usage: 1.7+ KB\n"
     ]
    }
   ],
   "source": [
    "df=pd.read_csv('Social-Media-Books.csv')\n",
    "df.info()"
   ]
  },
  {
   "cell_type": "markdown",
   "id": "33548a5a",
   "metadata": {},
   "source": [
    "# Now we will scrape all pages and also save all data in CSV file."
   ]
  },
  {
   "cell_type": "code",
   "execution_count": 14,
   "id": "a86e401b",
   "metadata": {},
   "outputs": [
    {
     "name": "stdout",
     "output_type": "stream",
     "text": [
      "✔✔✔✔✔✔✔✔✔✔✔✔✔✔✔✔✔✔✔✔✔✔✔✔✔\n"
     ]
    }
   ],
   "source": [
    "with open('Social-Media-Books2.csv', 'w', encoding='utf-8') as file:\n",
    "    writer_obj = csv.writer(file)\n",
    "    writer_obj.writerow(['Title', 'Publisher', 'Author', 'Year'])\n",
    "    \n",
    "    for i in range(1,11):\n",
    "        url = f'https://eg1lib.org/s/social%20media?page={i}'\n",
    "        request = requests.get(url)\n",
    "        soup = bs(request.content,'html.parser')\n",
    "\n",
    "        containers = soup.find_all('div', {'class':'resItemBox resItemBoxBooks exactMatch'})\n",
    "\n",
    "        for container in containers:\n",
    "            title = container.find_all('h3', {'itemprop': \"name\"})\n",
    "            title = title[0].text.strip()\n",
    "\n",
    "            try:\n",
    "                publisher = container.find_all('a', {'title':'Publisher'})[0]\n",
    "            except:\n",
    "                publisher = 'nan'\n",
    "\n",
    "\n",
    "            author = container.find_all('div', {'class':'authors'})[0].text\n",
    "\n",
    "            year = container.find_all('div', {'class':\"property_value\"})[0].text\n",
    "\n",
    "            writer_obj.writerow([title, publisher, author, year])\n",
    "\n",
    "    print('✔✔✔✔✔✔✔✔✔✔✔✔✔✔✔✔✔✔✔✔✔✔✔✔✔')"
   ]
  },
  {
   "cell_type": "code",
   "execution_count": 15,
   "id": "c8927285",
   "metadata": {},
   "outputs": [
    {
     "name": "stdout",
     "output_type": "stream",
     "text": [
      "<class 'pandas.core.frame.DataFrame'>\n",
      "RangeIndex: 500 entries, 0 to 499\n",
      "Data columns (total 4 columns):\n",
      " #   Column     Non-Null Count  Dtype \n",
      "---  ------     --------------  ----- \n",
      " 0   Title      500 non-null    object\n",
      " 1   Publisher  442 non-null    object\n",
      " 2   Author     500 non-null    object\n",
      " 3   Year       500 non-null    object\n",
      "dtypes: object(4)\n",
      "memory usage: 15.8+ KB\n"
     ]
    }
   ],
   "source": [
    "df2 = pd.read_csv('Social-Media-Books2.csv')\n",
    "df2.info()"
   ]
  },
  {
   "cell_type": "markdown",
   "id": "aec69b5a",
   "metadata": {},
   "source": [
    "# Let's view data"
   ]
  },
  {
   "cell_type": "code",
   "execution_count": 16,
   "id": "8d602bb7",
   "metadata": {},
   "outputs": [
    {
     "data": {
      "text/html": [
       "<div>\n",
       "<style scoped>\n",
       "    .dataframe tbody tr th:only-of-type {\n",
       "        vertical-align: middle;\n",
       "    }\n",
       "\n",
       "    .dataframe tbody tr th {\n",
       "        vertical-align: top;\n",
       "    }\n",
       "\n",
       "    .dataframe thead th {\n",
       "        text-align: right;\n",
       "    }\n",
       "</style>\n",
       "<table border=\"1\" class=\"dataframe\">\n",
       "  <thead>\n",
       "    <tr style=\"text-align: right;\">\n",
       "      <th></th>\n",
       "      <th>Title</th>\n",
       "      <th>Publisher</th>\n",
       "      <th>Author</th>\n",
       "      <th>Year</th>\n",
       "    </tr>\n",
       "  </thead>\n",
       "  <tbody>\n",
       "    <tr>\n",
       "      <th>0</th>\n",
       "      <td>500 Social Media Marketing Tips: Essential Adv...</td>\n",
       "      <td>&lt;a href=\"/s/?q=%5BAndrew+Macarthy%5D\" title=\"P...</td>\n",
       "      <td>Andrew Macarthy</td>\n",
       "      <td>2017</td>\n",
       "    </tr>\n",
       "    <tr>\n",
       "      <th>1</th>\n",
       "      <td>The Power of Visual Storytelling: How to Use V...</td>\n",
       "      <td>&lt;a href=\"/s/?q=McGraw-Hill\" title=\"Publisher\"&gt;...</td>\n",
       "      <td>Ekaterina Walter, Jessica Gioglio</td>\n",
       "      <td>2014</td>\n",
       "    </tr>\n",
       "    <tr>\n",
       "      <th>2</th>\n",
       "      <td>Social Media Strategy: Marketing, Advertising,...</td>\n",
       "      <td>&lt;a href=\"/s/?q=Rowman+%26+Littlefield+Publishe...</td>\n",
       "      <td>Keith Quesenberry</td>\n",
       "      <td>2018</td>\n",
       "    </tr>\n",
       "    <tr>\n",
       "      <th>3</th>\n",
       "      <td>Social Media Marketing Mastery (2 Manuscripts ...</td>\n",
       "      <td>&lt;a href=\"/s/?q=Gary+Clyne\" title=\"Publisher\"&gt;G...</td>\n",
       "      <td>Clyne Gary</td>\n",
       "      <td>2019</td>\n",
       "    </tr>\n",
       "    <tr>\n",
       "      <th>4</th>\n",
       "      <td>Storytelling: Manipulation of the Audience - H...</td>\n",
       "      <td>NaN</td>\n",
       "      <td>Daniel Anderson</td>\n",
       "      <td>2019</td>\n",
       "    </tr>\n",
       "  </tbody>\n",
       "</table>\n",
       "</div>"
      ],
      "text/plain": [
       "                                               Title  \\\n",
       "0  500 Social Media Marketing Tips: Essential Adv...   \n",
       "1  The Power of Visual Storytelling: How to Use V...   \n",
       "2  Social Media Strategy: Marketing, Advertising,...   \n",
       "3  Social Media Marketing Mastery (2 Manuscripts ...   \n",
       "4  Storytelling: Manipulation of the Audience - H...   \n",
       "\n",
       "                                           Publisher  \\\n",
       "0  <a href=\"/s/?q=%5BAndrew+Macarthy%5D\" title=\"P...   \n",
       "1  <a href=\"/s/?q=McGraw-Hill\" title=\"Publisher\">...   \n",
       "2  <a href=\"/s/?q=Rowman+%26+Littlefield+Publishe...   \n",
       "3  <a href=\"/s/?q=Gary+Clyne\" title=\"Publisher\">G...   \n",
       "4                                                NaN   \n",
       "\n",
       "                              Author  Year  \n",
       "0                    Andrew Macarthy  2017  \n",
       "1  Ekaterina Walter, Jessica Gioglio  2014  \n",
       "2                  Keith Quesenberry  2018  \n",
       "3                         Clyne Gary  2019  \n",
       "4                    Daniel Anderson  2019  "
      ]
     },
     "execution_count": 16,
     "metadata": {},
     "output_type": "execute_result"
    }
   ],
   "source": [
    "df.head()"
   ]
  }
 ],
 "metadata": {
  "kernelspec": {
   "display_name": "Python 3",
   "language": "python",
   "name": "python3"
  },
  "language_info": {
   "codemirror_mode": {
    "name": "ipython",
    "version": 3
   },
   "file_extension": ".py",
   "mimetype": "text/x-python",
   "name": "python",
   "nbconvert_exporter": "python",
   "pygments_lexer": "ipython3",
   "version": "3.8.8"
  }
 },
 "nbformat": 4,
 "nbformat_minor": 5
}
