{
 "cells": [
  {
   "cell_type": "markdown",
   "metadata": {},
   "source": [
    "<h1 align='center'><font color ='brown'> Scrapping </font></h2>"
   ]
  },
  {
   "cell_type": "code",
   "execution_count": 1,
   "metadata": {},
   "outputs": [],
   "source": [
    "import requests # for making HTTP requests to a web server\n",
    "from bs4 import BeautifulSoup # for parsing HTML and XML documents\n",
    "from itertools import zip_longest #  a function for grouping iterables into fixed-length chunks, filling in missing values with a specified fill value\n",
    "import csv\n",
    "import re # a module for working with regular expressions\n",
    "import pandas as pd"
   ]
  },
  {
   "cell_type": "markdown",
   "metadata": {},
   "source": [
    "### Make Get Request"
   ]
  },
  {
   "cell_type": "code",
   "execution_count": 2,
   "metadata": {},
   "outputs": [
    {
     "name": "stdout",
     "output_type": "stream",
     "text": [
      "Request successful!\n"
     ]
    }
   ],
   "source": [
    "request = requests.get('https://wuzzuf.net/search/jobs/?q=data+analyst&a=navbl')\n",
    "# request\n",
    "# A status code of 200 indicates that the request was successful and the server responded with the expected content.\n",
    "if request.status_code == 200:\n",
    "    print(\"Request successful!\")\n",
    "else:\n",
    "    print(f\"Request failed with status code {request.status_code}\")"
   ]
  },
  {
   "cell_type": "code",
   "execution_count": 3,
   "metadata": {},
   "outputs": [
    {
     "data": {
      "text/plain": [
       "b'<!DOCTYPE html>\\n<html lang=\"en\">\\n<head>\\n    <meta charset=\"utf-8\">\\n    <meta http-equiv=\"X-UA-Compatible\" content=\"IE=edge\">\\n    <meta name=\"viewport\" content=\"width=device-width, initial-scale=1.0, s'"
      ]
     },
     "execution_count": 3,
     "metadata": {},
     "output_type": "execute_result"
    }
   ],
   "source": [
    "# This code accesses the HTML content of the web page that was returned by the server.\n",
    "source = request.content\n",
    "source[:200] #returns the first 200 characters of the HTML content.\n",
    "             #This is a useful way to quickly inspect the structure and content of the HTML document."
   ]
  },
  {
   "cell_type": "code",
   "execution_count": 4,
   "metadata": {},
   "outputs": [
    {
     "data": {
      "text/plain": [
       "'By printing the soup variable, you can see the parsed HTML content of the web page, with the structure and tags represented as nested objects.\\nThis can be useful for understanding the structure of the web page and identifying the relevant tags and attributes needed to extract specific information from the page.'"
      ]
     },
     "execution_count": 4,
     "metadata": {},
     "output_type": "execute_result"
    }
   ],
   "source": [
    "# this code creates a BeautifulSoup object by passing the source variable as the first argument and specifying the parser to use as the second argument.\n",
    "soup = BeautifulSoup(source, 'html.parser')\n",
    "soup\n",
    "\"\"\"By printing the soup variable, you can see the parsed HTML content of the web page, with the structure and tags represented as nested objects.\n",
    "This can be useful for understanding the structure of the web page and identifying the relevant tags and attributes needed to extract specific information from the page.\"\"\""
   ]
  },
  {
   "cell_type": "code",
   "execution_count": 5,
   "metadata": {},
   "outputs": [
    {
     "data": {
      "text/plain": [
       "15"
      ]
     },
     "execution_count": 5,
     "metadata": {},
     "output_type": "execute_result"
    }
   ],
   "source": [
    "# The find_all() method returns a list of all matching elements, which is stored in the containers variable.\n",
    "containers = soup.find_all('div', class_='css-1gatmva e1v1l3u10')\n",
    "len(containers)"
   ]
  },
  {
   "cell_type": "code",
   "execution_count": 6,
   "metadata": {},
   "outputs": [
    {
     "data": {
      "text/plain": [
       "[<h2 class=\"css-m604qf\"><style data-emotion=\"css o171kl\">.css-o171kl{-webkit-text-decoration:none;text-decoration:none;color:inherit;}</style><a class=\"css-o171kl\" href=\"/jobs/p/aiRSu9WV14YS-Data-Analyst-ITCan-Cairo-Egypt?o=1&amp;l=sp&amp;t=sj&amp;a=data analyst|search-v3|navbl\" rel=\"noreferrer\" target=\"_blank\">Data Analyst</a></h2>]"
      ]
     },
     "execution_count": 6,
     "metadata": {},
     "output_type": "execute_result"
    }
   ],
   "source": [
    "# This code accesses the first element in the list by indexing containers[0]\n",
    "containers[0].find_all('h2', class_=\"css-m604qf\")"
   ]
  },
  {
   "cell_type": "markdown",
   "metadata": {},
   "source": [
    "### Scrapping Job Title "
   ]
  },
  {
   "cell_type": "code",
   "execution_count": 7,
   "metadata": {},
   "outputs": [
    {
     "data": {
      "text/plain": [
       "'Data Analyst'"
      ]
     },
     "execution_count": 7,
     "metadata": {},
     "output_type": "execute_result"
    }
   ],
   "source": [
    "# The text attribute of this element is then accessed using `.text` to extract the text content of the <h2> element, which likely corresponds to the job title of the first job listing on the web page.\n",
    "job_title=containers[0].find_all('h2', class_=\"css-m604qf\")\n",
    "job_title[0].text"
   ]
  },
  {
   "cell_type": "markdown",
   "metadata": {},
   "source": [
    "### Scrapping Company Location "
   ]
  },
  {
   "cell_type": "code",
   "execution_count": 8,
   "metadata": {},
   "outputs": [
    {
     "data": {
      "text/plain": [
       "'New Cairo, Cairo, Egypt '"
      ]
     },
     "execution_count": 8,
     "metadata": {},
     "output_type": "execute_result"
    }
   ],
   "source": [
    "# extract company location of the first job listing on the web page.\n",
    "company_location = containers[0].find_all('span', class_='css-5wys0k')\n",
    "company_location[0].text"
   ]
  },
  {
   "cell_type": "markdown",
   "metadata": {},
   "source": [
    "### Scrapping Company Name "
   ]
  },
  {
   "cell_type": "code",
   "execution_count": 9,
   "metadata": {},
   "outputs": [
    {
     "data": {
      "text/plain": [
       "'ITCan -'"
      ]
     },
     "execution_count": 9,
     "metadata": {},
     "output_type": "execute_result"
    }
   ],
   "source": [
    "# extract company name of the first job listing on the web page.\n",
    "company_name = containers[0].find_all('a', class_='css-17s97q8')\n",
    "company_name[0].text"
   ]
  },
  {
   "cell_type": "markdown",
   "metadata": {},
   "source": [
    "### Scrapping Job Skill"
   ]
  },
  {
   "cell_type": "code",
   "execution_count": 10,
   "metadata": {},
   "outputs": [
    {
     "data": {
      "text/plain": [
       "'Full TimeExperienced · 3 - 5 Yrs of Exp · Analyst/Research · BI · Analysis · analytical · Computer Science · Data Analysis · Development · Engineering · Information Technology (IT) · Power BI'"
      ]
     },
     "execution_count": 10,
     "metadata": {},
     "output_type": "execute_result"
    }
   ],
   "source": [
    "# extract job_skill of the first job listing on the web page.\n",
    "job_skill = containers[0].find_all('div', class_='css-y4udm8')\n",
    "job_skill[0].text"
   ]
  },
  {
   "cell_type": "markdown",
   "metadata": {},
   "source": [
    "### Scrapping Job Type "
   ]
  },
  {
   "cell_type": "code",
   "execution_count": 11,
   "metadata": {},
   "outputs": [
    {
     "data": {
      "text/plain": [
       "'Full Time'"
      ]
     },
     "execution_count": 11,
     "metadata": {},
     "output_type": "execute_result"
    }
   ],
   "source": [
    "# extract job type of the first job listing on the web page.\n",
    "job_type = containers[0].find_all('span', class_='css-1ve4b75 eoyjyou0')\n",
    "job_type[0].text"
   ]
  },
  {
   "cell_type": "markdown",
   "metadata": {},
   "source": [
    "### Scrapping Time "
   ]
  },
  {
   "cell_type": "code",
   "execution_count": 12,
   "metadata": {},
   "outputs": [
    {
     "data": {
      "text/plain": [
       "'8 days ago'"
      ]
     },
     "execution_count": 12,
     "metadata": {},
     "output_type": "execute_result"
    }
   ],
   "source": [
    "# extract time of the first job listing on the web page.\n",
    "time = (containers[0].find_all('div', class_=\"css-4c4ojb\")) + (soup.find_all('div', class_=\"css-do6t5g\"))\n",
    "time[0].text"
   ]
  },
  {
   "cell_type": "markdown",
   "metadata": {},
   "source": [
    "### For now, we have extracted elements we need in one container/box. <font color='green'>We **need to scrape all containers and save all data in CSV file**.</font>"
   ]
  },
  {
   "cell_type": "markdown",
   "metadata": {},
   "source": [
    "### Scraping whole page"
   ]
  },
  {
   "cell_type": "code",
   "execution_count": 13,
   "metadata": {},
   "outputs": [],
   "source": [
    "import requests\n",
    "from bs4 import BeautifulSoup\n",
    "import csv\n",
    "\n",
    "# Make a GET request to the URL\n",
    "url = 'https://wuzzuf.net/search/jobs/?q=data+analyst&a=navbl'\n",
    "response = requests.get(url)\n",
    "\n",
    "# Create a BeautifulSoup object from the HTML content\n",
    "soup = BeautifulSoup(response.content, 'html.parser')\n",
    "\n",
    "# Find all the job containers on the page\n",
    "job_containers = soup.find_all('div', class_='css-1gatmva e1v1l3u10')\n",
    "\n",
    "# Create empty lists to store the job information\n",
    "job_titles = []\n",
    "company_names = []\n",
    "company_locations = []\n",
    "job_skills = []\n",
    "job_types = []\n",
    "job_posted_times = []\n",
    "\n",
    "# Open the CSV file and write the header row\n",
    "with open('data analyst.csv', 'w', encoding='utf-8') as file:\n",
    "    writer = csv.writer(file)\n",
    "    writer.writerow(['job_titles', 'company_locations', 'company_names', 'job_skills', 'job_types', 'time'])\n",
    "    \n",
    "    # Loop through each job container and extract the job information\n",
    "    for container in job_containers:\n",
    "        # Extract the job title\n",
    "        title = container.find('h2', class_='css-m604qf').text\n",
    "        job_titles.append(title)\n",
    "\n",
    "        # Extract the company name and location\n",
    "        company_name = container.find_all('a', class_='css-17s97q8')[0].text.strip()\n",
    "        company_names.append(company_name)\n",
    "        \n",
    "        # Extract the company location\n",
    "        try:\n",
    "            company_location = container.find_all('span', class_='css-5wys0k')[0].text.strip()\n",
    "        except IndexError:\n",
    "            company_location = 'nan'\n",
    "        company_locations.append(company_location)\n",
    "\n",
    "        # Extract the job skills\n",
    "        skills = container.find('div', class_='css-y4udm8').text.strip()\n",
    "        job_skills.append(skills)\n",
    "\n",
    "        # Extract the job type\n",
    "        job_type = container.find('span', class_='css-1ve4b75 eoyjyou0').text.strip()\n",
    "        job_types.append(job_type)\n",
    "\n",
    "        # Extract the job posted time\n",
    "        try:\n",
    "            job_posted_time = ((container.find_all('div', class_='css-4c4ojb')) + (soup.find_all('div', class_='css-do6t5g')))[0].text.strip()\n",
    "        except IndexError:\n",
    "            job_posted_time = 'nan'\n",
    "        job_posted_times.append(job_posted_time)\n",
    "        \n",
    "        # Write the job information to the CSV file\n",
    "        writer.writerow([title, company_location, company_name, skills, job_type, job_posted_time])\n"
   ]
  },
  {
   "cell_type": "code",
   "execution_count": 14,
   "metadata": {},
   "outputs": [
    {
     "data": {
      "text/html": [
       "<div>\n",
       "<style scoped>\n",
       "    .dataframe tbody tr th:only-of-type {\n",
       "        vertical-align: middle;\n",
       "    }\n",
       "\n",
       "    .dataframe tbody tr th {\n",
       "        vertical-align: top;\n",
       "    }\n",
       "\n",
       "    .dataframe thead th {\n",
       "        text-align: right;\n",
       "    }\n",
       "</style>\n",
       "<table border=\"1\" class=\"dataframe\">\n",
       "  <thead>\n",
       "    <tr style=\"text-align: right;\">\n",
       "      <th></th>\n",
       "      <th>job_titles</th>\n",
       "      <th>company_locations</th>\n",
       "      <th>company_names</th>\n",
       "      <th>job_skills</th>\n",
       "      <th>job_types</th>\n",
       "      <th>time</th>\n",
       "    </tr>\n",
       "  </thead>\n",
       "  <tbody>\n",
       "    <tr>\n",
       "      <th>0</th>\n",
       "      <td>Data Analyst</td>\n",
       "      <td>New Cairo, Cairo, Egypt</td>\n",
       "      <td>ITCan -</td>\n",
       "      <td>Full TimeExperienced · 3 - 5 Yrs of Exp · Anal...</td>\n",
       "      <td>Full Time</td>\n",
       "      <td>8 days ago</td>\n",
       "    </tr>\n",
       "    <tr>\n",
       "      <th>1</th>\n",
       "      <td>Data Analyst</td>\n",
       "      <td>Sheraton, Cairo, Egypt</td>\n",
       "      <td>London International Patient Services -</td>\n",
       "      <td>Full TimeEntry Level · 1 - 2 Yrs of Exp · IT/S...</td>\n",
       "      <td>Full Time</td>\n",
       "      <td>8 days ago</td>\n",
       "    </tr>\n",
       "    <tr>\n",
       "      <th>2</th>\n",
       "      <td>Data Analyst</td>\n",
       "      <td>Dokki, Giza, Egypt</td>\n",
       "      <td>Safa International Travel -</td>\n",
       "      <td>Full TimeExperienced · 3 - 5 Yrs of Exp · Busi...</td>\n",
       "      <td>Full Time</td>\n",
       "      <td>8 days ago</td>\n",
       "    </tr>\n",
       "    <tr>\n",
       "      <th>3</th>\n",
       "      <td>Data Analyst</td>\n",
       "      <td>Maadi, Cairo, Egypt</td>\n",
       "      <td>AL-Matar -</td>\n",
       "      <td>Full TimeEntry Level · 2 - 4 Yrs of Exp · IT/S...</td>\n",
       "      <td>Full Time</td>\n",
       "      <td>8 days ago</td>\n",
       "    </tr>\n",
       "    <tr>\n",
       "      <th>4</th>\n",
       "      <td>Senior Data Analyst</td>\n",
       "      <td>Smart Village, Giza, Egypt</td>\n",
       "      <td>Fawry for Banking Technology and Electronic Pa...</td>\n",
       "      <td>Full TimeExperienced · 2 - 5 Yrs of Exp · Busi...</td>\n",
       "      <td>Full Time</td>\n",
       "      <td>8 days ago</td>\n",
       "    </tr>\n",
       "    <tr>\n",
       "      <th>5</th>\n",
       "      <td>Electronic Data Interchange (EDI) Analyst (Flu...</td>\n",
       "      <td>Cairo, Egypt</td>\n",
       "      <td>FlairsTech -</td>\n",
       "      <td>Full TimeExperienced · 1 - 3 Yrs of Exp · IT/S...</td>\n",
       "      <td>Full Time</td>\n",
       "      <td>8 days ago</td>\n",
       "    </tr>\n",
       "    <tr>\n",
       "      <th>6</th>\n",
       "      <td>Medical Data Analyst-Private Hospital Background</td>\n",
       "      <td>New Cairo, Cairo, Egypt</td>\n",
       "      <td>Confidential -</td>\n",
       "      <td>Full TimeExperienced · 3 - 5 Yrs of Exp · Medi...</td>\n",
       "      <td>Full Time</td>\n",
       "      <td>4 hours ago</td>\n",
       "    </tr>\n",
       "    <tr>\n",
       "      <th>7</th>\n",
       "      <td>Data Analyst</td>\n",
       "      <td>Katameya, Cairo, Egypt</td>\n",
       "      <td>Othaim -</td>\n",
       "      <td>Full TimeExperienced · 3 - 15 Yrs of Exp · IT/...</td>\n",
       "      <td>Full Time</td>\n",
       "      <td>8 days ago</td>\n",
       "    </tr>\n",
       "    <tr>\n",
       "      <th>8</th>\n",
       "      <td>Data Analyst</td>\n",
       "      <td>Heliopolis, Cairo, Egypt</td>\n",
       "      <td>Confidential -</td>\n",
       "      <td>Full TimeExperienced · 2 - 6 Yrs of Exp · Busi...</td>\n",
       "      <td>Full Time</td>\n",
       "      <td>8 days ago</td>\n",
       "    </tr>\n",
       "    <tr>\n",
       "      <th>9</th>\n",
       "      <td>Data Analyst</td>\n",
       "      <td>Zamalek, Cairo, Egypt</td>\n",
       "      <td>Al Ahly capital holding - Al Ahly Tamkeen -</td>\n",
       "      <td>Full TimeExperienced · 1 - 3 Yrs of Exp · IT/S...</td>\n",
       "      <td>Full Time</td>\n",
       "      <td>8 days ago</td>\n",
       "    </tr>\n",
       "    <tr>\n",
       "      <th>10</th>\n",
       "      <td>Software Business Analyst</td>\n",
       "      <td>Dokki, Giza, Egypt</td>\n",
       "      <td>WSC -</td>\n",
       "      <td>Full TimeExperienced · 3 - 6 Yrs of Exp · IT/S...</td>\n",
       "      <td>Full Time</td>\n",
       "      <td>8 days ago</td>\n",
       "    </tr>\n",
       "    <tr>\n",
       "      <th>11</th>\n",
       "      <td>Data Analyst</td>\n",
       "      <td>Maadi, Cairo, Egypt</td>\n",
       "      <td>Hands of Hope Physical Therapy &amp; Wellness -</td>\n",
       "      <td>Full TimeExperienced · 3 - 5 Yrs of Exp · R&amp;D/...</td>\n",
       "      <td>Full Time</td>\n",
       "      <td>8 days ago</td>\n",
       "    </tr>\n",
       "    <tr>\n",
       "      <th>12</th>\n",
       "      <td>Market Research Analyst</td>\n",
       "      <td>Maadi, Cairo, Egypt</td>\n",
       "      <td>Gap Polymers  -</td>\n",
       "      <td>Full TimeExperienced · 1 - 3 Yrs of Exp · Mark...</td>\n",
       "      <td>Full Time</td>\n",
       "      <td>8 days ago</td>\n",
       "    </tr>\n",
       "    <tr>\n",
       "      <th>13</th>\n",
       "      <td>Data Analyst</td>\n",
       "      <td>Cairo, Egypt</td>\n",
       "      <td>Natcom -</td>\n",
       "      <td>Full TimeExperienced · 2 - 6 Yrs of Exp · Sale...</td>\n",
       "      <td>Full Time</td>\n",
       "      <td>8 days ago</td>\n",
       "    </tr>\n",
       "    <tr>\n",
       "      <th>14</th>\n",
       "      <td>Financial Analyst - Innoventures</td>\n",
       "      <td>Heliopolis, Cairo, Egypt</td>\n",
       "      <td>Cultiv -</td>\n",
       "      <td>Full TimeExperienced · 2 - 5 Yrs of Exp · Acco...</td>\n",
       "      <td>Full Time</td>\n",
       "      <td>8 days ago</td>\n",
       "    </tr>\n",
       "  </tbody>\n",
       "</table>\n",
       "</div>"
      ],
      "text/plain": [
       "                                           job_titles  \\\n",
       "0                                        Data Analyst   \n",
       "1                                        Data Analyst   \n",
       "2                                        Data Analyst   \n",
       "3                                        Data Analyst   \n",
       "4                                 Senior Data Analyst   \n",
       "5   Electronic Data Interchange (EDI) Analyst (Flu...   \n",
       "6    Medical Data Analyst-Private Hospital Background   \n",
       "7                                        Data Analyst   \n",
       "8                                        Data Analyst   \n",
       "9                                        Data Analyst   \n",
       "10                          Software Business Analyst   \n",
       "11                                       Data Analyst   \n",
       "12                            Market Research Analyst   \n",
       "13                                       Data Analyst   \n",
       "14                   Financial Analyst - Innoventures   \n",
       "\n",
       "             company_locations  \\\n",
       "0      New Cairo, Cairo, Egypt   \n",
       "1       Sheraton, Cairo, Egypt   \n",
       "2           Dokki, Giza, Egypt   \n",
       "3          Maadi, Cairo, Egypt   \n",
       "4   Smart Village, Giza, Egypt   \n",
       "5                 Cairo, Egypt   \n",
       "6      New Cairo, Cairo, Egypt   \n",
       "7       Katameya, Cairo, Egypt   \n",
       "8     Heliopolis, Cairo, Egypt   \n",
       "9        Zamalek, Cairo, Egypt   \n",
       "10          Dokki, Giza, Egypt   \n",
       "11         Maadi, Cairo, Egypt   \n",
       "12         Maadi, Cairo, Egypt   \n",
       "13                Cairo, Egypt   \n",
       "14    Heliopolis, Cairo, Egypt   \n",
       "\n",
       "                                        company_names  \\\n",
       "0                                             ITCan -   \n",
       "1             London International Patient Services -   \n",
       "2                         Safa International Travel -   \n",
       "3                                          AL-Matar -   \n",
       "4   Fawry for Banking Technology and Electronic Pa...   \n",
       "5                                        FlairsTech -   \n",
       "6                                      Confidential -   \n",
       "7                                            Othaim -   \n",
       "8                                      Confidential -   \n",
       "9         Al Ahly capital holding - Al Ahly Tamkeen -   \n",
       "10                                              WSC -   \n",
       "11        Hands of Hope Physical Therapy & Wellness -   \n",
       "12                                    Gap Polymers  -   \n",
       "13                                           Natcom -   \n",
       "14                                           Cultiv -   \n",
       "\n",
       "                                           job_skills  job_types         time  \n",
       "0   Full TimeExperienced · 3 - 5 Yrs of Exp · Anal...  Full Time   8 days ago  \n",
       "1   Full TimeEntry Level · 1 - 2 Yrs of Exp · IT/S...  Full Time   8 days ago  \n",
       "2   Full TimeExperienced · 3 - 5 Yrs of Exp · Busi...  Full Time   8 days ago  \n",
       "3   Full TimeEntry Level · 2 - 4 Yrs of Exp · IT/S...  Full Time   8 days ago  \n",
       "4   Full TimeExperienced · 2 - 5 Yrs of Exp · Busi...  Full Time   8 days ago  \n",
       "5   Full TimeExperienced · 1 - 3 Yrs of Exp · IT/S...  Full Time   8 days ago  \n",
       "6   Full TimeExperienced · 3 - 5 Yrs of Exp · Medi...  Full Time  4 hours ago  \n",
       "7   Full TimeExperienced · 3 - 15 Yrs of Exp · IT/...  Full Time   8 days ago  \n",
       "8   Full TimeExperienced · 2 - 6 Yrs of Exp · Busi...  Full Time   8 days ago  \n",
       "9   Full TimeExperienced · 1 - 3 Yrs of Exp · IT/S...  Full Time   8 days ago  \n",
       "10  Full TimeExperienced · 3 - 6 Yrs of Exp · IT/S...  Full Time   8 days ago  \n",
       "11  Full TimeExperienced · 3 - 5 Yrs of Exp · R&D/...  Full Time   8 days ago  \n",
       "12  Full TimeExperienced · 1 - 3 Yrs of Exp · Mark...  Full Time   8 days ago  \n",
       "13  Full TimeExperienced · 2 - 6 Yrs of Exp · Sale...  Full Time   8 days ago  \n",
       "14  Full TimeExperienced · 2 - 5 Yrs of Exp · Acco...  Full Time   8 days ago  "
      ]
     },
     "execution_count": 14,
     "metadata": {},
     "output_type": "execute_result"
    }
   ],
   "source": [
    "data = pd.read_csv('data analyst.csv')\n",
    "data.head(15)"
   ]
  },
  {
   "cell_type": "code",
   "execution_count": 15,
   "metadata": {},
   "outputs": [
    {
     "data": {
      "text/plain": [
       "(15, 6)"
      ]
     },
     "execution_count": 15,
     "metadata": {},
     "output_type": "execute_result"
    }
   ],
   "source": [
    "data.shape"
   ]
  },
  {
   "cell_type": "markdown",
   "metadata": {},
   "source": [
    "### Scraping multiple pages"
   ]
  },
  {
   "cell_type": "code",
   "execution_count": 16,
   "metadata": {},
   "outputs": [],
   "source": [
    "# Make a GET request to the URL\n",
    "url = 'https://wuzzuf.net/search/jobs/?q=data+analyst&a=navbl'\n",
    "response = requests.get(url)\n",
    "\n",
    "# Create a BeautifulSoup object from the HTML content\n",
    "soup = BeautifulSoup(response.content, 'html.parser')\n",
    "\n",
    "# Find all the job containers on the page\n",
    "job_containers = soup.find_all('div', class_='css-1gatmva e1v1l3u10')\n",
    "\n",
    "# Create empty lists to store the job information\n",
    "job_titles = []\n",
    "company_names = []\n",
    "company_locations = []\n",
    "job_skills = []\n",
    "job_types = []\n",
    "job_posted_times = []\n",
    "\n",
    "# Open the CSV file and write the header row\n",
    "with open('all data analyst jobs.csv', 'w', encoding='utf-8') as file:\n",
    "    writer = csv.writer(file)\n",
    "    writer.writerow(['job_titles', 'company_locations', 'company_names', 'job_skills', 'job_types', 'time'])\n",
    "    \n",
    "    for i in range(1,15):\n",
    "        url = f'https://wuzzuf.net/search/jobs/?q=data+analyst&a=navbl={i}'\n",
    "        response = requests.get(url)\n",
    "\n",
    "\n",
    "        containers = soup.find_all('div', {'class':'resItemBox resItemBoxBooks exactMatch'})\n",
    "\n",
    "    \n",
    "        # Loop through each job container and extract the job information\n",
    "        for container in job_containers:\n",
    "            # Extract the job title\n",
    "            title = container.find('h2', class_='css-m604qf').text\n",
    "            \n",
    "            job_titles.append(title)\n",
    "\n",
    "            # Extract the company name and location\n",
    "            company_name = container.find_all('a', class_='css-17s97q8')[0].text.strip()\n",
    "            company_names.append(company_name)\n",
    "\n",
    "            # Extract the company location\n",
    "            try:\n",
    "                company_location = container.find_all('span', class_='css-5wys0k')[0].text.strip()\n",
    "            except IndexError:\n",
    "                company_location = 'nan'\n",
    "            company_locations.append(company_location)\n",
    "\n",
    "            # Extract the job skills\n",
    "            skills = container.find('div', class_='css-y4udm8').text.strip()\n",
    "            job_skills.append(skills)\n",
    "\n",
    "            # Extract the job type\n",
    "            job_type = container.find('span', class_='css-1ve4b75 eoyjyou0').text.strip()\n",
    "            job_types.append(job_type)\n",
    "\n",
    "            # Extract the job posted time\n",
    "            try:\n",
    "                job_posted_time = ((container.find_all('div', class_='css-4c4ojb')) + (soup.find_all('div', class_='css-do6t5g')))[0].text.strip()\n",
    "            except IndexError:\n",
    "                job_posted_time = 'nan'\n",
    "            job_posted_times.append(job_posted_time)\n",
    "\n",
    "            # Write the job information to the CSV file\n",
    "            writer.writerow([title, company_location, company_name, skills, job_type, job_posted_time])\n"
   ]
  },
  {
   "cell_type": "code",
   "execution_count": 17,
   "metadata": {},
   "outputs": [
    {
     "data": {
      "text/plain": [
       "(210, 6)"
      ]
     },
     "execution_count": 17,
     "metadata": {},
     "output_type": "execute_result"
    }
   ],
   "source": [
    "df = pd.read_csv('all data analyst jobs.csv')\n",
    "df.shape"
   ]
  },
  {
   "cell_type": "markdown",
   "metadata": {},
   "source": [
    "### Let's see data"
   ]
  },
  {
   "cell_type": "code",
   "execution_count": 18,
   "metadata": {},
   "outputs": [
    {
     "data": {
      "text/html": [
       "<div>\n",
       "<style scoped>\n",
       "    .dataframe tbody tr th:only-of-type {\n",
       "        vertical-align: middle;\n",
       "    }\n",
       "\n",
       "    .dataframe tbody tr th {\n",
       "        vertical-align: top;\n",
       "    }\n",
       "\n",
       "    .dataframe thead th {\n",
       "        text-align: right;\n",
       "    }\n",
       "</style>\n",
       "<table border=\"1\" class=\"dataframe\">\n",
       "  <thead>\n",
       "    <tr style=\"text-align: right;\">\n",
       "      <th></th>\n",
       "      <th>job_titles</th>\n",
       "      <th>company_locations</th>\n",
       "      <th>company_names</th>\n",
       "      <th>job_skills</th>\n",
       "      <th>job_types</th>\n",
       "      <th>time</th>\n",
       "    </tr>\n",
       "  </thead>\n",
       "  <tbody>\n",
       "    <tr>\n",
       "      <th>0</th>\n",
       "      <td>Data Analyst</td>\n",
       "      <td>New Cairo, Cairo, Egypt</td>\n",
       "      <td>ITCan -</td>\n",
       "      <td>Full TimeExperienced · 3 - 5 Yrs of Exp · Anal...</td>\n",
       "      <td>Full Time</td>\n",
       "      <td>8 days ago</td>\n",
       "    </tr>\n",
       "    <tr>\n",
       "      <th>1</th>\n",
       "      <td>Data Analyst</td>\n",
       "      <td>Sheraton, Cairo, Egypt</td>\n",
       "      <td>London International Patient Services -</td>\n",
       "      <td>Full TimeEntry Level · 1 - 2 Yrs of Exp · IT/S...</td>\n",
       "      <td>Full Time</td>\n",
       "      <td>8 days ago</td>\n",
       "    </tr>\n",
       "    <tr>\n",
       "      <th>2</th>\n",
       "      <td>Data Analyst</td>\n",
       "      <td>Dokki, Giza, Egypt</td>\n",
       "      <td>Safa International Travel -</td>\n",
       "      <td>Full TimeExperienced · 3 - 5 Yrs of Exp · Busi...</td>\n",
       "      <td>Full Time</td>\n",
       "      <td>8 days ago</td>\n",
       "    </tr>\n",
       "    <tr>\n",
       "      <th>3</th>\n",
       "      <td>Data Analyst</td>\n",
       "      <td>Maadi, Cairo, Egypt</td>\n",
       "      <td>AL-Matar -</td>\n",
       "      <td>Full TimeEntry Level · 2 - 4 Yrs of Exp · IT/S...</td>\n",
       "      <td>Full Time</td>\n",
       "      <td>8 days ago</td>\n",
       "    </tr>\n",
       "    <tr>\n",
       "      <th>4</th>\n",
       "      <td>Senior Data Analyst</td>\n",
       "      <td>Smart Village, Giza, Egypt</td>\n",
       "      <td>Fawry for Banking Technology and Electronic Pa...</td>\n",
       "      <td>Full TimeExperienced · 2 - 5 Yrs of Exp · Busi...</td>\n",
       "      <td>Full Time</td>\n",
       "      <td>8 days ago</td>\n",
       "    </tr>\n",
       "  </tbody>\n",
       "</table>\n",
       "</div>"
      ],
      "text/plain": [
       "            job_titles           company_locations  \\\n",
       "0         Data Analyst     New Cairo, Cairo, Egypt   \n",
       "1         Data Analyst      Sheraton, Cairo, Egypt   \n",
       "2         Data Analyst          Dokki, Giza, Egypt   \n",
       "3         Data Analyst         Maadi, Cairo, Egypt   \n",
       "4  Senior Data Analyst  Smart Village, Giza, Egypt   \n",
       "\n",
       "                                       company_names  \\\n",
       "0                                            ITCan -   \n",
       "1            London International Patient Services -   \n",
       "2                        Safa International Travel -   \n",
       "3                                         AL-Matar -   \n",
       "4  Fawry for Banking Technology and Electronic Pa...   \n",
       "\n",
       "                                          job_skills  job_types        time  \n",
       "0  Full TimeExperienced · 3 - 5 Yrs of Exp · Anal...  Full Time  8 days ago  \n",
       "1  Full TimeEntry Level · 1 - 2 Yrs of Exp · IT/S...  Full Time  8 days ago  \n",
       "2  Full TimeExperienced · 3 - 5 Yrs of Exp · Busi...  Full Time  8 days ago  \n",
       "3  Full TimeEntry Level · 2 - 4 Yrs of Exp · IT/S...  Full Time  8 days ago  \n",
       "4  Full TimeExperienced · 2 - 5 Yrs of Exp · Busi...  Full Time  8 days ago  "
      ]
     },
     "execution_count": 18,
     "metadata": {},
     "output_type": "execute_result"
    }
   ],
   "source": [
    "df.head()"
   ]
  },
  {
   "cell_type": "code",
   "execution_count": 19,
   "metadata": {},
   "outputs": [
    {
     "name": "stdout",
     "output_type": "stream",
     "text": [
      "<class 'pandas.core.frame.DataFrame'>\n",
      "RangeIndex: 210 entries, 0 to 209\n",
      "Data columns (total 6 columns):\n",
      " #   Column             Non-Null Count  Dtype \n",
      "---  ------             --------------  ----- \n",
      " 0   job_titles         210 non-null    object\n",
      " 1   company_locations  210 non-null    object\n",
      " 2   company_names      210 non-null    object\n",
      " 3   job_skills         210 non-null    object\n",
      " 4   job_types          210 non-null    object\n",
      " 5   time               210 non-null    object\n",
      "dtypes: object(6)\n",
      "memory usage: 10.0+ KB\n"
     ]
    }
   ],
   "source": [
    "df.info()"
   ]
  },
  {
   "cell_type": "markdown",
   "metadata": {},
   "source": [
    "### We can remove `-` from Company Names column"
   ]
  },
  {
   "cell_type": "code",
   "execution_count": 20,
   "metadata": {},
   "outputs": [
    {
     "data": {
      "text/html": [
       "<div>\n",
       "<style scoped>\n",
       "    .dataframe tbody tr th:only-of-type {\n",
       "        vertical-align: middle;\n",
       "    }\n",
       "\n",
       "    .dataframe tbody tr th {\n",
       "        vertical-align: top;\n",
       "    }\n",
       "\n",
       "    .dataframe thead th {\n",
       "        text-align: right;\n",
       "    }\n",
       "</style>\n",
       "<table border=\"1\" class=\"dataframe\">\n",
       "  <thead>\n",
       "    <tr style=\"text-align: right;\">\n",
       "      <th></th>\n",
       "      <th>job_titles</th>\n",
       "      <th>company_locations</th>\n",
       "      <th>company_names</th>\n",
       "      <th>job_skills</th>\n",
       "      <th>job_types</th>\n",
       "      <th>time</th>\n",
       "    </tr>\n",
       "  </thead>\n",
       "  <tbody>\n",
       "    <tr>\n",
       "      <th>0</th>\n",
       "      <td>Data Analyst</td>\n",
       "      <td>New Cairo, Cairo, Egypt</td>\n",
       "      <td>ITCan</td>\n",
       "      <td>Full TimeExperienced · 3 - 5 Yrs of Exp · Anal...</td>\n",
       "      <td>Full Time</td>\n",
       "      <td>8 days ago</td>\n",
       "    </tr>\n",
       "    <tr>\n",
       "      <th>1</th>\n",
       "      <td>Data Analyst</td>\n",
       "      <td>Sheraton, Cairo, Egypt</td>\n",
       "      <td>London International Patient Services</td>\n",
       "      <td>Full TimeEntry Level · 1 - 2 Yrs of Exp · IT/S...</td>\n",
       "      <td>Full Time</td>\n",
       "      <td>8 days ago</td>\n",
       "    </tr>\n",
       "    <tr>\n",
       "      <th>2</th>\n",
       "      <td>Data Analyst</td>\n",
       "      <td>Dokki, Giza, Egypt</td>\n",
       "      <td>Safa International Travel</td>\n",
       "      <td>Full TimeExperienced · 3 - 5 Yrs of Exp · Busi...</td>\n",
       "      <td>Full Time</td>\n",
       "      <td>8 days ago</td>\n",
       "    </tr>\n",
       "    <tr>\n",
       "      <th>3</th>\n",
       "      <td>Data Analyst</td>\n",
       "      <td>Maadi, Cairo, Egypt</td>\n",
       "      <td>ALMatar</td>\n",
       "      <td>Full TimeEntry Level · 2 - 4 Yrs of Exp · IT/S...</td>\n",
       "      <td>Full Time</td>\n",
       "      <td>8 days ago</td>\n",
       "    </tr>\n",
       "    <tr>\n",
       "      <th>4</th>\n",
       "      <td>Senior Data Analyst</td>\n",
       "      <td>Smart Village, Giza, Egypt</td>\n",
       "      <td>Fawry for Banking Technology and Electronic Pa...</td>\n",
       "      <td>Full TimeExperienced · 2 - 5 Yrs of Exp · Busi...</td>\n",
       "      <td>Full Time</td>\n",
       "      <td>8 days ago</td>\n",
       "    </tr>\n",
       "  </tbody>\n",
       "</table>\n",
       "</div>"
      ],
      "text/plain": [
       "            job_titles           company_locations  \\\n",
       "0         Data Analyst     New Cairo, Cairo, Egypt   \n",
       "1         Data Analyst      Sheraton, Cairo, Egypt   \n",
       "2         Data Analyst          Dokki, Giza, Egypt   \n",
       "3         Data Analyst         Maadi, Cairo, Egypt   \n",
       "4  Senior Data Analyst  Smart Village, Giza, Egypt   \n",
       "\n",
       "                                       company_names  \\\n",
       "0                                             ITCan    \n",
       "1             London International Patient Services    \n",
       "2                         Safa International Travel    \n",
       "3                                           ALMatar    \n",
       "4  Fawry for Banking Technology and Electronic Pa...   \n",
       "\n",
       "                                          job_skills  job_types        time  \n",
       "0  Full TimeExperienced · 3 - 5 Yrs of Exp · Anal...  Full Time  8 days ago  \n",
       "1  Full TimeEntry Level · 1 - 2 Yrs of Exp · IT/S...  Full Time  8 days ago  \n",
       "2  Full TimeExperienced · 3 - 5 Yrs of Exp · Busi...  Full Time  8 days ago  \n",
       "3  Full TimeEntry Level · 2 - 4 Yrs of Exp · IT/S...  Full Time  8 days ago  \n",
       "4  Full TimeExperienced · 2 - 5 Yrs of Exp · Busi...  Full Time  8 days ago  "
      ]
     },
     "execution_count": 20,
     "metadata": {},
     "output_type": "execute_result"
    }
   ],
   "source": [
    "# Define a lambda function to remove hyphens from company_names column\n",
    "remove_hyphen = lambda x: x.replace('-', '')\n",
    "\n",
    "# Apply the lambda function to the company_names column\n",
    "df['company_names'] = df['company_names'].apply(remove_hyphen)\n",
    "\n",
    "# Print the updated dataframe\n",
    "df.head()"
   ]
  }
 ],
 "metadata": {
  "kernelspec": {
   "display_name": "Python 3 (ipykernel)",
   "language": "python",
   "name": "python3"
  },
  "language_info": {
   "codemirror_mode": {
    "name": "ipython",
    "version": 3
   },
   "file_extension": ".py",
   "mimetype": "text/x-python",
   "name": "python",
   "nbconvert_exporter": "python",
   "pygments_lexer": "ipython3",
   "version": "3.9.13"
  }
 },
 "nbformat": 4,
 "nbformat_minor": 4
}
